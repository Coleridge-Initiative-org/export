{
 "cells": [
  {
   "cell_type": "code",
   "execution_count": 1,
   "metadata": {},
   "outputs": [],
   "source": [
    "import pandas as pd\n",
    "import module"
   ]
  },
  {
   "cell_type": "code",
   "execution_count": 2,
   "metadata": {},
   "outputs": [],
   "source": [
    "# first row is reference names, wanted to get rid of that\n",
    "# This is for 2007-2009\n",
    "# Contains some duplicate columns\n",
    "cali = pd.read_csv(\"ACS_california.csv\", header = 1)"
   ]
  },
  {
   "cell_type": "code",
   "execution_count": 3,
   "metadata": {
    "scrolled": true
   },
   "outputs": [
    {
     "data": {
      "text/html": [
       "<div>\n",
       "<style scoped>\n",
       "    .dataframe tbody tr th:only-of-type {\n",
       "        vertical-align: middle;\n",
       "    }\n",
       "\n",
       "    .dataframe tbody tr th {\n",
       "        vertical-align: top;\n",
       "    }\n",
       "\n",
       "    .dataframe thead th {\n",
       "        text-align: right;\n",
       "    }\n",
       "</style>\n",
       "<table border=\"1\" class=\"dataframe\">\n",
       "  <thead>\n",
       "    <tr style=\"text-align: right;\">\n",
       "      <th></th>\n",
       "      <th>FILEID</th>\n",
       "      <th>FILETYPE</th>\n",
       "      <th>STUSAB</th>\n",
       "      <th>CHARITER</th>\n",
       "      <th>SEQUENCE</th>\n",
       "      <th>LOGRECNO</th>\n",
       "      <th>LOGRECNO.1</th>\n",
       "      <th>GEOID</th>\n",
       "      <th>Geography Name</th>\n",
       "      <th>Population 1 year and over in the United States</th>\n",
       "      <th>...</th>\n",
       "      <th>Population 1 year and over in the United States% Moved to different state:.3</th>\n",
       "      <th>Population 1 year and over in the United States% Moved to different state:% 1 to 4 years.1</th>\n",
       "      <th>Population 1 year and over in the United States% Moved to different state:% 5 to 17 years.1</th>\n",
       "      <th>Population 1 year and over in the United States% Moved to different state:% 18 to 24 years</th>\n",
       "      <th>Population 1 year and over in the United States% Moved to different state:% 25 to 34 years</th>\n",
       "      <th>Population 1 year and over in the United States% Moved to different state:% 35 to 44 years</th>\n",
       "      <th>Population 1 year and over in the United States% Moved to different state:% 45 to 54 years</th>\n",
       "      <th>Population 1 year and over in the United States% Moved to different state:% 55 to 64 years</th>\n",
       "      <th>Population 1 year and over in the United States% Moved to different state:% 65 to 74 years</th>\n",
       "      <th>Population 1 year and over in the United States% Moved to different state:% 75 years and over.1</th>\n",
       "    </tr>\n",
       "  </thead>\n",
       "  <tbody>\n",
       "    <tr>\n",
       "      <th>0</th>\n",
       "      <td>ACSSF</td>\n",
       "      <td>2010000.0</td>\n",
       "      <td>ca</td>\n",
       "      <td>0</td>\n",
       "      <td>1</td>\n",
       "      <td>1</td>\n",
       "      <td>1</td>\n",
       "      <td>04000US06</td>\n",
       "      <td>California</td>\n",
       "      <td>35914126</td>\n",
       "      <td>...</td>\n",
       "      <td>605465</td>\n",
       "      <td>42339</td>\n",
       "      <td>83503</td>\n",
       "      <td>119888</td>\n",
       "      <td>144033</td>\n",
       "      <td>82439</td>\n",
       "      <td>58586</td>\n",
       "      <td>41161</td>\n",
       "      <td>18234</td>\n",
       "      <td>15282</td>\n",
       "    </tr>\n",
       "    <tr>\n",
       "      <th>1</th>\n",
       "      <td>ACSSF</td>\n",
       "      <td>2010000.0</td>\n",
       "      <td>ca</td>\n",
       "      <td>0</td>\n",
       "      <td>1</td>\n",
       "      <td>13</td>\n",
       "      <td>13</td>\n",
       "      <td>05000US06001</td>\n",
       "      <td>Alameda County, California</td>\n",
       "      <td>1437687</td>\n",
       "      <td>...</td>\n",
       "      <td>22498</td>\n",
       "      <td>946</td>\n",
       "      <td>2795</td>\n",
       "      <td>4508</td>\n",
       "      <td>5518</td>\n",
       "      <td>3776</td>\n",
       "      <td>1794</td>\n",
       "      <td>1698</td>\n",
       "      <td>611</td>\n",
       "      <td>852</td>\n",
       "    </tr>\n",
       "    <tr>\n",
       "      <th>2</th>\n",
       "      <td>ACSSF</td>\n",
       "      <td>2010000.0</td>\n",
       "      <td>ca</td>\n",
       "      <td>0</td>\n",
       "      <td>1</td>\n",
       "      <td>14</td>\n",
       "      <td>14</td>\n",
       "      <td>05000US06005</td>\n",
       "      <td>Amador County, California</td>\n",
       "      <td>38663</td>\n",
       "      <td>...</td>\n",
       "      <td>653</td>\n",
       "      <td>17</td>\n",
       "      <td>51</td>\n",
       "      <td>67</td>\n",
       "      <td>104</td>\n",
       "      <td>162</td>\n",
       "      <td>58</td>\n",
       "      <td>69</td>\n",
       "      <td>78</td>\n",
       "      <td>47</td>\n",
       "    </tr>\n",
       "    <tr>\n",
       "      <th>3</th>\n",
       "      <td>ACSSF</td>\n",
       "      <td>2010000.0</td>\n",
       "      <td>ca</td>\n",
       "      <td>0</td>\n",
       "      <td>1</td>\n",
       "      <td>15</td>\n",
       "      <td>15</td>\n",
       "      <td>05000US06007</td>\n",
       "      <td>Butte County, California</td>\n",
       "      <td>212883</td>\n",
       "      <td>...</td>\n",
       "      <td>2929</td>\n",
       "      <td>222</td>\n",
       "      <td>442</td>\n",
       "      <td>769</td>\n",
       "      <td>852</td>\n",
       "      <td>163</td>\n",
       "      <td>227</td>\n",
       "      <td>151</td>\n",
       "      <td>32</td>\n",
       "      <td>71</td>\n",
       "    </tr>\n",
       "    <tr>\n",
       "      <th>4</th>\n",
       "      <td>ACSSF</td>\n",
       "      <td>2010000.0</td>\n",
       "      <td>ca</td>\n",
       "      <td>0</td>\n",
       "      <td>1</td>\n",
       "      <td>16</td>\n",
       "      <td>16</td>\n",
       "      <td>05000US06009</td>\n",
       "      <td>Calaveras County, California</td>\n",
       "      <td>46436</td>\n",
       "      <td>...</td>\n",
       "      <td>838</td>\n",
       "      <td>45</td>\n",
       "      <td>145</td>\n",
       "      <td>146</td>\n",
       "      <td>77</td>\n",
       "      <td>36</td>\n",
       "      <td>91</td>\n",
       "      <td>139</td>\n",
       "      <td>63</td>\n",
       "      <td>96</td>\n",
       "    </tr>\n",
       "  </tbody>\n",
       "</table>\n",
       "<p>5 rows × 229 columns</p>\n",
       "</div>"
      ],
      "text/plain": [
       "  FILEID   FILETYPE STUSAB  CHARITER  SEQUENCE  LOGRECNO  LOGRECNO.1  \\\n",
       "0  ACSSF  2010000.0     ca         0         1         1           1   \n",
       "1  ACSSF  2010000.0     ca         0         1        13          13   \n",
       "2  ACSSF  2010000.0     ca         0         1        14          14   \n",
       "3  ACSSF  2010000.0     ca         0         1        15          15   \n",
       "4  ACSSF  2010000.0     ca         0         1        16          16   \n",
       "\n",
       "          GEOID                Geography Name  \\\n",
       "0     04000US06                    California   \n",
       "1  05000US06001    Alameda County, California   \n",
       "2  05000US06005     Amador County, California   \n",
       "3  05000US06007      Butte County, California   \n",
       "4  05000US06009  Calaveras County, California   \n",
       "\n",
       "  Population 1 year and over in the United States  ...  \\\n",
       "0                                        35914126  ...   \n",
       "1                                         1437687  ...   \n",
       "2                                           38663  ...   \n",
       "3                                          212883  ...   \n",
       "4                                           46436  ...   \n",
       "\n",
       "  Population 1 year and over in the United States% Moved to different state:.3  \\\n",
       "0                                             605465                             \n",
       "1                                              22498                             \n",
       "2                                                653                             \n",
       "3                                               2929                             \n",
       "4                                                838                             \n",
       "\n",
       "  Population 1 year and over in the United States% Moved to different state:% 1 to 4 years.1  \\\n",
       "0                                              42339                                           \n",
       "1                                                946                                           \n",
       "2                                                 17                                           \n",
       "3                                                222                                           \n",
       "4                                                 45                                           \n",
       "\n",
       "  Population 1 year and over in the United States% Moved to different state:% 5 to 17 years.1  \\\n",
       "0                                              83503                                            \n",
       "1                                               2795                                            \n",
       "2                                                 51                                            \n",
       "3                                                442                                            \n",
       "4                                                145                                            \n",
       "\n",
       "  Population 1 year and over in the United States% Moved to different state:% 18 to 24 years  \\\n",
       "0                                             119888                                           \n",
       "1                                               4508                                           \n",
       "2                                                 67                                           \n",
       "3                                                769                                           \n",
       "4                                                146                                           \n",
       "\n",
       "  Population 1 year and over in the United States% Moved to different state:% 25 to 34 years  \\\n",
       "0                                             144033                                           \n",
       "1                                               5518                                           \n",
       "2                                                104                                           \n",
       "3                                                852                                           \n",
       "4                                                 77                                           \n",
       "\n",
       "  Population 1 year and over in the United States% Moved to different state:% 35 to 44 years  \\\n",
       "0                                              82439                                           \n",
       "1                                               3776                                           \n",
       "2                                                162                                           \n",
       "3                                                163                                           \n",
       "4                                                 36                                           \n",
       "\n",
       "  Population 1 year and over in the United States% Moved to different state:% 45 to 54 years  \\\n",
       "0                                              58586                                           \n",
       "1                                               1794                                           \n",
       "2                                                 58                                           \n",
       "3                                                227                                           \n",
       "4                                                 91                                           \n",
       "\n",
       "  Population 1 year and over in the United States% Moved to different state:% 55 to 64 years  \\\n",
       "0                                              41161                                           \n",
       "1                                               1698                                           \n",
       "2                                                 69                                           \n",
       "3                                                151                                           \n",
       "4                                                139                                           \n",
       "\n",
       "  Population 1 year and over in the United States% Moved to different state:% 65 to 74 years  \\\n",
       "0                                              18234                                           \n",
       "1                                                611                                           \n",
       "2                                                 78                                           \n",
       "3                                                 32                                           \n",
       "4                                                 63                                           \n",
       "\n",
       "  Population 1 year and over in the United States% Moved to different state:% 75 years and over.1  \n",
       "0                                              15282                                               \n",
       "1                                                852                                               \n",
       "2                                                 47                                               \n",
       "3                                                 71                                               \n",
       "4                                                 96                                               \n",
       "\n",
       "[5 rows x 229 columns]"
      ]
     },
     "execution_count": 3,
     "metadata": {},
     "output_type": "execute_result"
    }
   ],
   "source": [
    "cali.head()"
   ]
  },
  {
   "cell_type": "code",
   "execution_count": 4,
   "metadata": {
    "scrolled": true
   },
   "outputs": [
    {
     "data": {
      "text/plain": [
       "0     6498\n",
       "1      200\n",
       "2        0\n",
       "3        1\n",
       "4        0\n",
       "5        .\n",
       "6      341\n",
       "7        0\n",
       "8       75\n",
       "9       90\n",
       "10       .\n",
       "11       6\n",
       "12      12\n",
       "13      80\n",
       "14      22\n",
       "15      46\n",
       "16       0\n",
       "17    1374\n",
       "18       0\n",
       "19      40\n",
       "20       0\n",
       "21      76\n",
       "22      71\n",
       "23      73\n",
       "24      75\n",
       "25     600\n",
       "26      39\n",
       "27       .\n",
       "28     760\n",
       "29     173\n",
       "30       7\n",
       "31     450\n",
       "32     661\n",
       "33      92\n",
       "34      60\n",
       "35       0\n",
       "36      97\n",
       "37      35\n",
       "38     230\n",
       "39      67\n",
       "40      51\n",
       "41      69\n",
       "42      80\n",
       "43     108\n",
       "44      58\n",
       "45       0\n",
       "46      21\n",
       "47      76\n",
       "48      33\n",
       "49      97\n",
       "50      24\n",
       "51      28\n",
       "Name: Population 1 year and over in the United States% Moved to different state:% 70 to 74 years, dtype: object"
      ]
     },
     "execution_count": 4,
     "metadata": {},
     "output_type": "execute_result"
    }
   ],
   "source": [
    "# column example with some entries less than 10\n",
    "# NOTE: Need to convert types to integers here\n",
    "cali['Population 1 year and over in the United States% Moved to different state:% 70 to 74 years']"
   ]
  },
  {
   "cell_type": "code",
   "execution_count": 5,
   "metadata": {},
   "outputs": [
    {
     "name": "stdout",
     "output_type": "stream",
     "text": [
      "9\n"
     ]
    }
   ],
   "source": [
    "# test the add_8 function in the hello package\n",
    "module.add_8(cali['LOGRECNO'][0])"
   ]
  },
  {
   "cell_type": "code",
   "execution_count": 6,
   "metadata": {},
   "outputs": [
    {
     "data": {
      "text/plain": [
       "1"
      ]
     },
     "execution_count": 6,
     "metadata": {},
     "output_type": "execute_result"
    }
   ],
   "source": [
    "# for reference of what the value was before the function was applied\n",
    "cali['LOGRECNO'][0]"
   ]
  },
  {
   "cell_type": "code",
   "execution_count": 7,
   "metadata": {},
   "outputs": [
    {
     "name": "stdout",
     "output_type": "stream",
     "text": [
      "    a  b  c\n",
      "0   1  0  0\n",
      "1   0  1  0\n",
      "2   0  0  1\n",
      "3   1  0  0\n",
      "4   1  0  0\n",
      "5   1  0  0\n",
      "6   1  0  0\n",
      "7   1  0  0\n",
      "8   1  0  0\n",
      "9   1  0  0\n",
      "10  1  0  0\n",
      "11  1  0  0\n",
      "12  1  0  0\n",
      "13  1  0  0\n",
      "14  1  0  0\n",
      "15  1  0  0\n",
      "16  1  0  0\n",
      "17  1  0  0\n",
      "18  1  0  0\n",
      "19  1  0  0\n",
      "20  0  1  0\n",
      "21  0  1  0\n",
      "22  0  1  0\n",
      "23  0  1  0\n",
      "24  0  1  0\n",
      "25  0  1  0\n",
      "26  0  1  0\n",
      "27  0  1  0\n",
      "28  0  1  0\n",
      "29  0  1  0\n",
      "30  0  1  0\n",
      "31  0  1  0\n",
      "32  0  1  0\n",
      "33  0  1  0\n",
      "<class 'pandas.core.frame.DataFrame'>\n",
      "RangeIndex: 34 entries, 0 to 33\n",
      "Data columns (total 3 columns):\n",
      "a    34 non-null uint8\n",
      "b    34 non-null uint8\n",
      "c    34 non-null uint8\n",
      "dtypes: uint8(3)\n",
      "memory usage: 182.0 bytes\n",
      "None\n"
     ]
    }
   ],
   "source": [
    "s = pd.Series(list('abcaaaaaaaaaaaaaaaaabbbbbbbbbbbbbb'))\n",
    "# make dummies of the series\n",
    "d = pd.get_dummies(s)\n",
    "\n",
    "#print out d to see what the counts should be\n",
    "print(d)\n",
    "print(d.info())"
   ]
  },
  {
   "cell_type": "code",
   "execution_count": 8,
   "metadata": {},
   "outputs": [
    {
     "name": "stdout",
     "output_type": "stream",
     "text": [
      "These dummy variables didn't have counts of at least 10 for both when they are 1 or 0: \n",
      "\n",
      "c\n"
     ]
    },
    {
     "data": {
      "text/plain": [
       "[None]"
      ]
     },
     "execution_count": 8,
     "metadata": {},
     "output_type": "execute_result"
    }
   ],
   "source": [
    "#when dummy_counts should not return any counts\n",
    "module.dummy_counts(d)"
   ]
  },
  {
   "cell_type": "code",
   "execution_count": 9,
   "metadata": {},
   "outputs": [
    {
     "name": "stdout",
     "output_type": "stream",
     "text": [
      "1    18\n",
      "0    16\n",
      "Name: a, dtype: int64\n",
      "0    19\n",
      "1    15\n",
      "Name: b, dtype: int64\n"
     ]
    },
    {
     "data": {
      "text/plain": [
       "[None, None]"
      ]
     },
     "execution_count": 9,
     "metadata": {},
     "output_type": "execute_result"
    }
   ],
   "source": [
    "#when dummy_counts should return the counts\n",
    "module.dummy_counts(d[['a', 'b']])"
   ]
  },
  {
   "cell_type": "code",
   "execution_count": 10,
   "metadata": {},
   "outputs": [
    {
     "name": "stdout",
     "output_type": "stream",
     "text": [
      "1    18\n",
      "0    16\n",
      "Name: a, dtype: int64\n",
      "0    19\n",
      "1    15\n",
      "Name: b, dtype: int64\n",
      "0    33\n",
      "1     1\n",
      "Name: c, dtype: int64\n"
     ]
    },
    {
     "data": {
      "text/plain": [
       "[None, None, None]"
      ]
     },
     "execution_count": 10,
     "metadata": {},
     "output_type": "execute_result"
    }
   ],
   "source": [
    "# specify argument for cutoff\n",
    "module.dummy_counts(d, cutoff = 1)"
   ]
  },
  {
   "cell_type": "code",
   "execution_count": null,
   "metadata": {},
   "outputs": [],
   "source": []
  }
 ],
 "metadata": {
  "kernelspec": {
   "display_name": "Python 3",
   "language": "python",
   "name": "python3"
  },
  "language_info": {
   "codemirror_mode": {
    "name": "ipython",
    "version": 3
   },
   "file_extension": ".py",
   "mimetype": "text/x-python",
   "name": "python",
   "nbconvert_exporter": "python",
   "pygments_lexer": "ipython3",
   "version": "3.7.3"
  }
 },
 "nbformat": 4,
 "nbformat_minor": 2
}
